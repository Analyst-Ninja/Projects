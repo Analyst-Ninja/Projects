import cv2


from mtcnn import MTCNN
from mtcnn.utils.images import load_image, scale_images
from mtcnn.utils.plotting import plot
import matplotlib.pyplot as plt
import cv2

# Create a detector instance
detector = MTCNN(device="CPU:0")

# Load an image
image = cv2.imread("IMG20220315185849.jpg")

# Convert to RGB for proper color representation
image_rgb = cv2.cvtColor(image, cv2.COLOR_BGR2RGB)

resized_image = cv2.resize(image_rgb, (800, 640))

# # Detect faces in the image
result = detector.detect_faces(resized_image, threshold_onet = 0.7)

plt.imshow(plot(resized_image, result))
plt.show()



