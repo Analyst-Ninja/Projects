get_ipython().getoutput("pip install openpyxl")


import pandas as pd
import numpy as np


data = {
    'emp_id': [44, 27, 43, 50, 22, 49, 35, 18, 21, 38, 
               14, 17, 31, 28, 6, 25, 16, 3, 8, 46, 
               23, 41, 12, 48, 13, 29, 15, 37, 47, 4, 
               2, 42, 45, 24, 40, 7, 5, 20, 11, 1, 
               30, 10, 26, 36, 39, 34, 19, 32, 33, 9],

    'role_group': ['C', 'G', 'E', 'E', 'A', 'B', 'B', 'G', 'I', 'D',
                   'C', 'G', 'E', 'A', 'H', 'F', 'C', 'B', 'F', 'C',
                   'A', 'I', 'D', 'A', 'F', 'D', 'H', 'D', 'I', 'B',
                   'C', 'B', 'A', 'D', 'H', 'G', 'F', 'G', 'I', 'I',
                   'B', 'A', 'B', 'D', 'E', 'F', 'A', 'F', 'B', 'B'],

    'sol_id': [10, 4, 2, 2, 1, 7, 2, 5, 9, 5,
               5, 7, 5, 8, 3, 4, 9, 7, 4, 8,
               9, 1, 2, 5, 6, 7, 3, 8, 2, 4,
               6, 8, 3, 9, 9, 2, 3, 10, 9, 6,
               3, 6, 3, 8, 4, 6, 10, 8, 1, 5]
}


emp_df = pd.DataFrame(data=data)


import pandas as pd
import random

# Define parameters
num_records = 1000
interaction_ids = list(range(1, num_records + 1))
role_groups = ["A", "B", "C", "D", "E", "F", "G", "H", "I"]
sol_ids = list(range(1, 11))

# Shuffle interaction_ids for randomness
random.shuffle(interaction_ids)

# Generate random role_group and sol_id
data = {
    "interaction_id": interaction_ids,
    "role_group": [random.choice(role_groups) for _ in range(num_records)],
    "sol_id": [random.choice(sol_ids) for _ in range(num_records)]
}

# Create DataFrame
df = pd.DataFrame(data)
df.head()


from itertools import cycle


a = cycle([1,2])
df.head(2)


def assignment_cycle(role_group, sol_id: int) -> None:
    filter_emp_list = cycle(list(emp_df[(emp_df['sol_id'] == sol_id) & (emp_df['role_group'] == role_group)]['emp_id']))
    return filter_emp_list


unique_combinations = df[['role_group', 'sol_id']].drop_duplicates(ignore_index=True)


def assign_emp(cycle):
    return next(cycle)


unique_combinations


interaction_ids = []
role_groups = []
sol_ids = []
assigned_emps = []
columns=['interaction_id','role_group','sol_id','assigned_emp']
for index, row in unique_combinations.iterrows():
    emp_cycle = assignment_cycle(role_group=row['role_group'], sol_id=row['sol_id'])
    interactions = df[(df['role_group'] == row['role_group']) & (df['sol_id'] == row['sol_id'])]
    for index, row in interactions.iterrows():
        try:
            row['assigned_emp'] = next(emp_cycle)
        except:
            row['assigned_emp'] = np.nan
        interaction_ids.append(row['interaction_id'])
        role_groups.append(row['role_group'])
        sol_ids.append(row['sol_id'])
        assigned_emps.append(row['assigned_emp'])


assigned_df = pd.DataFrame(data={
    'interaction_id' : interaction_ids,
    'role_group': role_groups,
    'sol_id': sol_ids,
    'assigned_emp': assigned_emps
})


assigned_df.to_excel('assigned_data.xlsx', index=False)


emp_df[emp_df['role_group'] == "I"]


df.groupby(['sol_id','role_group']).count()


assigned_df[assigned_df['sol_id'] == 1]


emp_df[emp_df['role_group'] == "E"]



